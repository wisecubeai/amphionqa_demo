{
 "cells": [
  {
   "cell_type": "code",
   "execution_count": 1,
   "id": "f81f187e",
   "metadata": {},
   "outputs": [],
   "source": [
    "import os\n",
    "from graph_handler import GraphHandler as gq\n",
    "AMPhion = gq()\n",
    "\n"
   ]
  },
  {
   "cell_type": "markdown",
   "id": "4a72409e",
   "metadata": {},
   "source": [
    "# Overview\n",
    "For the demonstration of AMPhionQA we have provided a number of different questions that are queried against Wikidata. This allows us to highlight capabilities of the system that would be otherwise hidden from the user such as the handling of aliases. \n",
    "\n",
    "We have examples of both natural language questions with corresponding results as well as natural language to the corresponding SPARQL queries. For the SPARQL examples we provide the Wikidata ID and corresponding NL label for easy understanding."
   ]
  },
  {
   "cell_type": "markdown",
   "id": "2ad48b17",
   "metadata": {},
   "source": [
    "# Basic Query Examples \n",
    "\n",
    "These examples are all similar to the 13 predicate groups we used for baseline testing.\n"
   ]
  },
  {
   "cell_type": "code",
   "execution_count": 2,
   "id": "dd3c7082",
   "metadata": {},
   "outputs": [
    {
     "name": "stdout",
     "output_type": "stream",
     "text": [
      "['headache', 'cough', 'fatigue', 'fever', 'rhinitis', 'myalgia', 'chest pain', 'chills', 'nasal congestion']\n"
     ]
    }
   ],
   "source": [
    "results = AMPhion.run_query(\"What are the symptoms of influenza?\")\n",
    "print(results)"
   ]
  },
  {
   "cell_type": "code",
   "execution_count": 3,
   "id": "7b6f28bf",
   "metadata": {},
   "outputs": [
    {
     "name": "stdout",
     "output_type": "stream",
     "text": [
      "['pneumonia', 'diarrhea', 'vomiting', 'nausea']\n"
     ]
    }
   ],
   "source": [
    "results = AMPhion.run_query(\"What are the symptoms of avian influenza?\")\n",
    "print(results)"
   ]
  },
  {
   "cell_type": "code",
   "execution_count": 4,
   "id": "3bf89569",
   "metadata": {},
   "outputs": [
    {
     "name": "stdout",
     "output_type": "stream",
     "text": [
      "['ethnicity', 'age of a person']\n"
     ]
    }
   ],
   "source": [
    "results = AMPhion.run_query(\"lactose intolerance risk factors?\")\n",
    "print(results)"
   ]
  },
  {
   "cell_type": "code",
   "execution_count": 5,
   "id": "cac8b638",
   "metadata": {},
   "outputs": [
    {
     "name": "stdout",
     "output_type": "stream",
     "text": [
      "['epidermal growth factor receptor', 'Solute carrier organic anion transporter family member 2B1']\n"
     ]
    }
   ],
   "source": [
    "results = AMPhion.run_query(\"What are the targets of erlotinib?\")\n",
    "print(results)"
   ]
  },
  {
   "cell_type": "code",
   "execution_count": 6,
   "id": "e1fe29e5",
   "metadata": {},
   "outputs": [
    {
     "name": "stdout",
     "output_type": "stream",
     "text": [
      "['infectious disease', 'disease', 'viral infectious disease', 'respiratory disease', 'Orthomyxoviridae infectious disease', 'Virus diseases of plants', 'acute viral respiratory tract infection', 'symptom or sign', 'class of disease']\n"
     ]
    }
   ],
   "source": [
    "results = AMPhion.run_query(\"What kind of disease is influenza?\")\n",
    "print(results)"
   ]
  },
  {
   "cell_type": "code",
   "execution_count": 7,
   "id": "09f3927f",
   "metadata": {},
   "outputs": [
    {
     "name": "stdout",
     "output_type": "stream",
     "text": [
      "['neuromyelitis optica', 'clinically isolated syndrome', 'multiple sclerosis', 'secondary progressive multiple sclerosis', 'relapsing-remitting multiple sclerosis', 'AntiMOG associated encephalomyelitis', 'chronic progressive multiple sclerosis', 'Balo concentric sclerosis', 'Idiopathic inflammatory demyelinating diseases', 'tumefactive multiple sclerosis', 'primary progressive multiple sclerosis', 'MS3', 'progressive relapsing multiple sclerosis', 'MS4', 'multiple sclerosis, susceptibility to', 'Marburg multiple sclerosis', 'disseminated sclerosis with narcolepsy', 'MS2', 'multiple sclerosis, susceptibility to 1', 'multiple sclerosis, susceptibility to, 5', 'pediatric multiple sclerosis']\n"
     ]
    }
   ],
   "source": [
    "results = AMPhion.run_query(\"What are the different types of multiple sclerosis?\")\n",
    "print(results)"
   ]
  },
  {
   "cell_type": "markdown",
   "id": "6b8783bd",
   "metadata": {},
   "source": [
    "# Alternate Labels Examples\n",
    "These examples highlight AMPhionQA's ability to handle different labels that refer to the same entity.\n",
    "\n",
    "The wikidata ID for avian influenza is Q43987 and the predicate ID for disease transmission is P1060."
   ]
  },
  {
   "cell_type": "code",
   "execution_count": 8,
   "id": "69297257",
   "metadata": {},
   "outputs": [
    {
     "name": "stdout",
     "output_type": "stream",
     "text": [
      "SELECT DISTINCT ?item ?itemLabel \n",
      "WHERE {\n",
      "wd:Q43987 wdt:P1060 ?item .\n",
      "?item rdfs:label ?itemLabel . \n",
      "FILTER( LANG (?itemLabel) = 'en')\n",
      "}\n"
     ]
    }
   ],
   "source": [
    "sparql = AMPhion.get_sparql(\"how is avian influenza transmitted?\")\n",
    "print(sparql)"
   ]
  },
  {
   "cell_type": "code",
   "execution_count": 9,
   "id": "3abbb966",
   "metadata": {},
   "outputs": [
    {
     "name": "stdout",
     "output_type": "stream",
     "text": [
      "SELECT DISTINCT ?item ?itemLabel \n",
      "WHERE {\n",
      "wd:Q43987 wdt:P1060 ?item .\n",
      "?item rdfs:label ?itemLabel . \n",
      "FILTER( LANG (?itemLabel) = 'en')\n",
      "}\n"
     ]
    }
   ],
   "source": [
    "sparql = AMPhion.get_sparql(\"how is bird flu transmitted?\")\n",
    "print(sparql)"
   ]
  },
  {
   "cell_type": "markdown",
   "id": "0af9ea61",
   "metadata": {},
   "source": [
    "# Compound Query Examples\n",
    "These examples highlight AMPhionQA's ability to construct compound queries using less complex examples as components. The first two examples are similar to those found in the experimentation data while the latter two examples of more complex queries we have yet to incorporate into our AMP example set.\n",
    "\n",
    "The Wikidata IDs used are: \\\n",
    "type-1 diabetes - Q3025883 \\\n",
    "type-2 diabetes - Q124407 \\\n",
    "genetic association - P2293\n",
    "\n",
    "As we can see from the examples, AMPhionQA was able to logically construct correct SPARQL to find the set of genes related to both type-1 and type-2 diabetes."
   ]
  },
  {
   "cell_type": "code",
   "execution_count": 10,
   "id": "0a4a4ea8",
   "metadata": {},
   "outputs": [
    {
     "name": "stdout",
     "output_type": "stream",
     "text": [
      "['CTSH', 'CTLA4', 'PTPN22', 'IL2', 'TYK2', 'LMO7', 'PGM1', 'PTPN2', 'PAX4', 'AFF3', 'PRKCQ', 'ERBB4', 'IL2RA', 'IL7R', 'CD69', 'ERBB3', 'GLIS3', 'FCRL3', 'CAPSL', 'ADAD1', 'IKZF4', 'BACH2', 'IFIH1', 'SH2B3', 'RASGRP1', 'ANGPTL8', 'UBASH3A', 'CLEC16A', 'CD226', 'CUX2'] \n",
      "\n",
      "SELECT DISTINCT ?item ?itemLabel \n",
      "WHERE {\n",
      "wd:Q124407 wdt:P2293|^wdt:P2293 ?item .\n",
      "?item rdfs:label ?itemLabel . \n",
      "FILTER( LANG (?itemLabel) = 'en')\n",
      "}\n"
     ]
    }
   ],
   "source": [
    "results = AMPhion.run_query(\"List the genes related to type-1 diabetes.\")\n",
    "print(results, \"\\n\")\n",
    "\n",
    "sparql = AMPhion.get_sparql(\"List the genes related to type-1 diabetes.\")\n",
    "print(sparql)"
   ]
  },
  {
   "cell_type": "code",
   "execution_count": 11,
   "id": "8a305368",
   "metadata": {},
   "outputs": [
    {
     "name": "stdout",
     "output_type": "stream",
     "text": [
      "['GCK', 'CRHR2', 'ACHE', 'LAMA1', 'KCNQ1', 'FTO', 'TGFBR3', 'SLC30A8', 'SYK', 'CR2', 'KCNJ11', 'TCF7L2', 'SRR', 'LIMK2', 'HNF4A', 'GRK5', 'ADCY5', 'DGKB', 'IGF2BP2', 'GPSM1', 'PEX5L', 'SASH1', 'HMG20A', 'FAF1', 'ARL15', 'PLS1', 'PEPD', 'MTNR1B', 'PPARD', 'CDKAL1', 'ZMIZ1', 'RHOU', 'CMIP', 'THADA', 'ZFAND3', 'MARCHF1', 'RASGRP1', 'WFS1', 'ELMO1', 'MPHOSPH9', 'UBE2E2', 'VPS26A', 'MAEA', 'PTPRD', 'CCDC102A', 'CCNQ', 'PCBD2', 'DNER', 'LINGO2', 'GLIS3', 'HNF1B', 'ST6GAL1', 'RNF6', 'HNF1A', 'JAZF1', 'TCERG1L', 'SLC16A13', 'PPARG'] \n",
      "\n",
      "SELECT DISTINCT ?item ?itemLabel \n",
      "WHERE {\n",
      "wd:Q3025883 wdt:P2293|^wdt:P2293 ?item .\n",
      "?item rdfs:label ?itemLabel . \n",
      "FILTER( LANG (?itemLabel) = 'en')\n",
      "}\n"
     ]
    }
   ],
   "source": [
    "results = AMPhion.run_query(\"List the genes related to type-2 diabetes.\")\n",
    "print(results, \"\\n\")\n",
    "\n",
    "sparql = AMPhion.get_sparql(\"List the genes related to type-2 diabetes.\")\n",
    "print(sparql)"
   ]
  },
  {
   "cell_type": "code",
   "execution_count": 12,
   "id": "e6b44ff3",
   "metadata": {},
   "outputs": [
    {
     "name": "stdout",
     "output_type": "stream",
     "text": [
      "['RASGRP1', 'GLIS3'] \n",
      "\n",
      "SELECT DISTINCT ?item ?itemLabel \n",
      "WHERE {\n",
      "wd:Q124407 wdt:P2293|^wdt:P2293 ?item .\n",
      "?item wdt:P2293|^wdt:P2293 wd:Q3025883 .\n",
      "?item rdfs:label ?itemLabel . \n",
      "FILTER( LANG (?itemLabel) = 'en')\n",
      "}\n"
     ]
    }
   ],
   "source": [
    "results = AMPhion.run_query(\"List the genes related to both type-1 and type-2 diabetes.\")\n",
    "print(results, \"\\n\")\n",
    "\n",
    "sparql = AMPhion.get_sparql(\"List the genes related to both type-1 and type-2 diabetes.\")\n",
    "print(sparql)"
   ]
  },
  {
   "cell_type": "code",
   "execution_count": 13,
   "id": "6930235d",
   "metadata": {},
   "outputs": [
    {
     "name": "stdout",
     "output_type": "stream",
     "text": [
      "['RASGRP1', 'GLIS3'] \n",
      "\n",
      "SELECT DISTINCT ?item ?itemLabel \n",
      "WHERE {\n",
      "wd:Q124407 wdt:P2293|^wdt:P2293 ?item .\n",
      "?item wdt:P2293|^wdt:P2293 wd:Q3025883 .\n",
      "?item rdfs:label ?itemLabel . \n",
      "FILTER( LANG (?itemLabel) = 'en')\n",
      "}\n"
     ]
    }
   ],
   "source": [
    "results = AMPhion.run_query(\"List the genes related to both types of diabetes.\")\n",
    "print(results, \"\\n\")\n",
    "\n",
    "sparql = AMPhion.get_sparql(\"List the genes related to both types of diabetes.\")\n",
    "print(sparql)"
   ]
  },
  {
   "cell_type": "markdown",
   "id": "b219ce35",
   "metadata": {},
   "source": [
    "# Examples outside of training set\n",
    "\n",
    "These are some of the questions we are able to correctly answer even though AMPhionQA has not been given any similar examples that could have helped. "
   ]
  },
  {
   "cell_type": "code",
   "execution_count": 14,
   "id": "fdcb1f77",
   "metadata": {},
   "outputs": [
    {
     "name": "stdout",
     "output_type": "stream",
     "text": [
      "['vemurafenib', 'trametinib', 'Irinotecan / Vemurafenib / Cetuximab combination therapy', 'Panitumumab / Dabrafenib / Trametinib combination therapy', 'Pertuzumab / vemurafenib combination therapy', 'trametinib / vemurafenib / dabrafenib combination therapy', 'cobimetinib fumarate', 'pictilisib', 'Dabrafenib / Trametinib combination therapy', 'Panitumumab / Trametinib combination therapy', 'Sorafenib / Panitumumab combination therapy', 'dabrafenib', 'Capecitabine / Vemurafenib / Bevacizumab combination therapy', 'vemurafenib / cobimetinib fumarate combination therapy', 'Cetuximab / encorafenib combination therapy', 'cetuximab / encorafenib / binimetinib combination therapy', 'irinotecan / Panitumumab / vemurafenib combination therapy', 'erlotinib / vemurafenib combination therapy', 'Vemurafenib / Panitumumab combination therapy', 'Vemurafenib / Gefitinib / Cetuximab combination therapy']\n"
     ]
    }
   ],
   "source": [
    "results = AMPhion.run_query(\"What is BRAF V600E the positive therapeutic predictors for?\")\n",
    "print(results)"
   ]
  },
  {
   "cell_type": "code",
   "execution_count": 15,
   "id": "83db0b65",
   "metadata": {},
   "outputs": [
    {
     "name": "stdout",
     "output_type": "stream",
     "text": [
      "['BRAF']\n"
     ]
    }
   ],
   "source": [
    "results = AMPhion.run_query(\"What is BRAF V600E a variant of?\")\n",
    "print(results)"
   ]
  },
  {
   "cell_type": "markdown",
   "id": "d0af7077",
   "metadata": {},
   "source": [
    "The following two examples show the potential for AMPhionQA's growth as we add more examples to cover a wider range of topics. The first question correctly retrieve the significant interactions for paracetamol (acetaminaphin), the active ingredient in Tylenol. The second question attempts to do the same by getting the active ingredient of Tylenol and then finding the significant interactions but fails in the end as it places an irrelevant entity where a variable is needed. This is still promising for our system since neither example has been incorporated into our training yet it still comes so close to being fully able to handle them.\n",
    "\n",
    "Wikidata IDs: \\\n",
    "drug interaction - P769 \\\n",
    "paracetamol (acetaminaphin) - Q57055 \\\n",
    "Tylenol - Q47521665\n"
   ]
  },
  {
   "cell_type": "code",
   "execution_count": 16,
   "id": "498be20f",
   "metadata": {},
   "outputs": [
    {
     "name": "stdout",
     "output_type": "stream",
     "text": [
      "['imatinib', 'phenytoin', 'acenocoumarol', 'propranolol', 'isoniazid', 'rifampicin', 'carbamazepin', 'rifabutin', 'rac-warfarin'] \n",
      "\n",
      "SELECT DISTINCT ?item ?itemLabel \n",
      "WHERE {\n",
      "wd:Q57055 wdt:P769 ?item .\n",
      "?item rdfs:label ?itemLabel . \n",
      "FILTER( LANG (?itemLabel) = 'en')\n",
      "}\n"
     ]
    }
   ],
   "source": [
    "results = AMPhion.run_query(\"What are the significant drug interactions of paracetamol?\")\n",
    "print(results, \"\\n\")\n",
    "\n",
    "sparql = AMPhion.get_sparql(\"What are the significant drug interactions of paracetamol?\")\n",
    "print(sparql)"
   ]
  },
  {
   "cell_type": "code",
   "execution_count": 17,
   "id": "7c60240a",
   "metadata": {},
   "outputs": [
    {
     "name": "stdout",
     "output_type": "stream",
     "text": [
      "SELECT DISTINCT ?item ?itemLabel \n",
      "WHERE {\n",
      "wd:Q47521665 wdt:P3781 ?item .\n",
      "?item wdt:P769 wd:Q70551253 .\n",
      "?item rdfs:label ?itemLabel . \n",
      "FILTER( LANG (?itemLabel) = 'en')\n",
      "}\n"
     ]
    }
   ],
   "source": [
    "sparql = AMPhion.get_sparql(\"What are the significant drug interactions of Tylenol's active ingredient?\")\n",
    "print(sparql)"
   ]
  },
  {
   "cell_type": "code",
   "execution_count": null,
   "id": "67e6d07a",
   "metadata": {},
   "outputs": [],
   "source": []
  }
 ],
 "metadata": {
  "kernelspec": {
   "display_name": "Python 3 (ipykernel)",
   "language": "python",
   "name": "python3"
  },
  "language_info": {
   "codemirror_mode": {
    "name": "ipython",
    "version": 3
   },
   "file_extension": ".py",
   "mimetype": "text/x-python",
   "name": "python",
   "nbconvert_exporter": "python",
   "pygments_lexer": "ipython3",
   "version": "3.7.12"
  }
 },
 "nbformat": 4,
 "nbformat_minor": 5
}
